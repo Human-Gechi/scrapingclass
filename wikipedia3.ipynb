{
 "cells": [
  {
   "cell_type": "code",
   "execution_count": 1,
   "metadata": {},
   "outputs": [],
   "source": [
    "import requests\n",
    "import pandas as pd\n",
    "from bs4 import BeautifulSoup"
   ]
  },
  {
   "cell_type": "code",
   "execution_count": 4,
   "metadata": {},
   "outputs": [],
   "source": [
    "url = \"https://en.wikipedia.org/wiki/List_of_highest-grossing_films\"\n",
    "response = requests.get(url)\n",
    "response = BeautifulSoup(response.content, \"html.parser\")\n",
    "table = response.find(\"table\", class_= \"wikitable plainrowheaders\")\n"
   ]
  },
  {
   "cell_type": "code",
   "execution_count": 5,
   "metadata": {},
   "outputs": [
    {
     "data": {
      "text/plain": [
       "['Rank',\n",
       " 'Title',\n",
       " 'Worldwide gross(2023 $)',\n",
       " 'Year',\n",
       " 'Gone with the Wind',\n",
       " 'Avatar',\n",
       " 'Titanic',\n",
       " 'Star Wars',\n",
       " 'Avengers: Endgame',\n",
       " 'The Sound of Music',\n",
       " 'E.T. the Extra-Terrestrial',\n",
       " 'The Ten Commandments',\n",
       " 'Doctor Zhivago',\n",
       " 'Star Wars: The Force Awakens']"
      ]
     },
     "execution_count": 5,
     "metadata": {},
     "output_type": "execute_result"
    }
   ],
   "source": [
    "headers=[]\n",
    "for x in table.find_all(\"tr\"):\n",
    "        for i in x.find_all(\"th\"):\n",
    "            data = i.text.replace(\"\\n\",\"\")\n",
    "            headers.append(data)\n",
    "headers"
   ]
  },
  {
   "cell_type": "code",
   "execution_count": 6,
   "metadata": {},
   "outputs": [
    {
     "data": {
      "text/html": [
       "<div>\n",
       "<style scoped>\n",
       "    .dataframe tbody tr th:only-of-type {\n",
       "        vertical-align: middle;\n",
       "    }\n",
       "\n",
       "    .dataframe tbody tr th {\n",
       "        vertical-align: top;\n",
       "    }\n",
       "\n",
       "    .dataframe thead th {\n",
       "        text-align: right;\n",
       "    }\n",
       "</style>\n",
       "<table border=\"1\" class=\"dataframe\">\n",
       "  <thead>\n",
       "    <tr style=\"text-align: right;\">\n",
       "      <th></th>\n",
       "      <th>Rank</th>\n",
       "      <th>Title</th>\n",
       "      <th>Worldwide gross(2023 $)</th>\n",
       "      <th>Year</th>\n",
       "    </tr>\n",
       "  </thead>\n",
       "  <tbody>\n",
       "  </tbody>\n",
       "</table>\n",
       "</div>"
      ],
      "text/plain": [
       "Empty DataFrame\n",
       "Columns: [Rank, Title, Worldwide gross(2023 $), Year]\n",
       "Index: []"
      ]
     },
     "execution_count": 6,
     "metadata": {},
     "output_type": "execute_result"
    }
   ],
   "source": [
    "df = pd.DataFrame(columns=headers)\n",
    "droping = df.columns[4:]\n",
    "droping_columns = df.drop(columns=droping)\n",
    "droping_columns"
   ]
  },
  {
   "cell_type": "code",
   "execution_count": 7,
   "metadata": {},
   "outputs": [
    {
     "data": {
      "text/plain": [
       "[[],\n",
       " ['1', 'GW$4,341,000,000', '1939', 'Gone with the Wind'],\n",
       " ['2', 'A1$3,957,000,000', '2009', 'Avatar'],\n",
       " ['3', '$2,516,000,000T$3,677,000,000', '1997', 'Titanic'],\n",
       " ['4', '$3,563,000,000', '1977', 'Star Wars'],\n",
       " ['5', 'AE$3,275,000,000', '2019', 'Avengers: Endgame'],\n",
       " ['6', '$2,984,000,000', '1965', 'The Sound of Music'],\n",
       " ['7', 'ET$2,917,000,000', '1982', 'E.T. the Extra-Terrestrial'],\n",
       " ['8', '$2,758,000,000', '1956', 'The Ten Commandments'],\n",
       " ['9', '$2,615,000,000', '1965', 'Doctor Zhivago'],\n",
       " ['10', 'TFA$2,577,000,000', '2015', 'Star Wars: The Force Awakens']]"
      ]
     },
     "execution_count": 7,
     "metadata": {},
     "output_type": "execute_result"
    }
   ],
   "source": [
    "rowdata = []\n",
    "dat_a = table.find(\"tbody\")\n",
    "for tr in dat_a.find_all(\"tr\"):\n",
    "    row = []\n",
    "    for td in tr.find_all(\"td\"):\n",
    "        data = td.text.replace(\"\\n\", \"\")\n",
    "        row.append(data)\n",
    "    for td in tr.find_all(\"i\"):\n",
    "        row.append(td.text)\n",
    "    rowdata.append(row)\n",
    "rowdata"
   ]
  },
  {
   "cell_type": "code",
   "execution_count": 8,
   "metadata": {},
   "outputs": [
    {
     "data": {
      "text/plain": [
       "[['1', 'GW$4,341,000,000', '1939', 'Gone with the Wind'],\n",
       " ['2', 'A1$3,957,000,000', '2009', 'Avatar'],\n",
       " ['3', '$2,516,000,000T$3,677,000,000', '1997', 'Titanic'],\n",
       " ['4', '$3,563,000,000', '1977', 'Star Wars'],\n",
       " ['5', 'AE$3,275,000,000', '2019', 'Avengers: Endgame'],\n",
       " ['6', '$2,984,000,000', '1965', 'The Sound of Music'],\n",
       " ['7', 'ET$2,917,000,000', '1982', 'E.T. the Extra-Terrestrial'],\n",
       " ['8', '$2,758,000,000', '1956', 'The Ten Commandments'],\n",
       " ['9', '$2,615,000,000', '1965', 'Doctor Zhivago'],\n",
       " ['10', 'TFA$2,577,000,000', '2015', 'Star Wars: The Force Awakens']]"
      ]
     },
     "execution_count": 8,
     "metadata": {},
     "output_type": "execute_result"
    }
   ],
   "source": [
    "rowdata.pop(0)\n",
    "rowdata"
   ]
  },
  {
   "cell_type": "code",
   "execution_count": 9,
   "metadata": {},
   "outputs": [
    {
     "data": {
      "text/html": [
       "<div>\n",
       "<style scoped>\n",
       "    .dataframe tbody tr th:only-of-type {\n",
       "        vertical-align: middle;\n",
       "    }\n",
       "\n",
       "    .dataframe tbody tr th {\n",
       "        vertical-align: top;\n",
       "    }\n",
       "\n",
       "    .dataframe thead th {\n",
       "        text-align: right;\n",
       "    }\n",
       "</style>\n",
       "<table border=\"1\" class=\"dataframe\">\n",
       "  <thead>\n",
       "    <tr style=\"text-align: right;\">\n",
       "      <th></th>\n",
       "      <th>Rank</th>\n",
       "      <th>Title</th>\n",
       "      <th>Worldwide gross(2023 $)</th>\n",
       "      <th>Year</th>\n",
       "    </tr>\n",
       "  </thead>\n",
       "  <tbody>\n",
       "    <tr>\n",
       "      <th>0</th>\n",
       "      <td>1</td>\n",
       "      <td>GW$4,341,000,000</td>\n",
       "      <td>1939</td>\n",
       "      <td>Gone with the Wind</td>\n",
       "    </tr>\n",
       "    <tr>\n",
       "      <th>1</th>\n",
       "      <td>2</td>\n",
       "      <td>A1$3,957,000,000</td>\n",
       "      <td>2009</td>\n",
       "      <td>Avatar</td>\n",
       "    </tr>\n",
       "    <tr>\n",
       "      <th>2</th>\n",
       "      <td>3</td>\n",
       "      <td>$2,516,000,000T$3,677,000,000</td>\n",
       "      <td>1997</td>\n",
       "      <td>Titanic</td>\n",
       "    </tr>\n",
       "    <tr>\n",
       "      <th>3</th>\n",
       "      <td>4</td>\n",
       "      <td>$3,563,000,000</td>\n",
       "      <td>1977</td>\n",
       "      <td>Star Wars</td>\n",
       "    </tr>\n",
       "    <tr>\n",
       "      <th>4</th>\n",
       "      <td>5</td>\n",
       "      <td>AE$3,275,000,000</td>\n",
       "      <td>2019</td>\n",
       "      <td>Avengers: Endgame</td>\n",
       "    </tr>\n",
       "    <tr>\n",
       "      <th>5</th>\n",
       "      <td>6</td>\n",
       "      <td>$2,984,000,000</td>\n",
       "      <td>1965</td>\n",
       "      <td>The Sound of Music</td>\n",
       "    </tr>\n",
       "    <tr>\n",
       "      <th>6</th>\n",
       "      <td>7</td>\n",
       "      <td>ET$2,917,000,000</td>\n",
       "      <td>1982</td>\n",
       "      <td>E.T. the Extra-Terrestrial</td>\n",
       "    </tr>\n",
       "    <tr>\n",
       "      <th>7</th>\n",
       "      <td>8</td>\n",
       "      <td>$2,758,000,000</td>\n",
       "      <td>1956</td>\n",
       "      <td>The Ten Commandments</td>\n",
       "    </tr>\n",
       "    <tr>\n",
       "      <th>8</th>\n",
       "      <td>9</td>\n",
       "      <td>$2,615,000,000</td>\n",
       "      <td>1965</td>\n",
       "      <td>Doctor Zhivago</td>\n",
       "    </tr>\n",
       "    <tr>\n",
       "      <th>9</th>\n",
       "      <td>10</td>\n",
       "      <td>TFA$2,577,000,000</td>\n",
       "      <td>2015</td>\n",
       "      <td>Star Wars: The Force Awakens</td>\n",
       "    </tr>\n",
       "  </tbody>\n",
       "</table>\n",
       "</div>"
      ],
      "text/plain": [
       "  Rank                          Title Worldwide gross(2023 $)  \\\n",
       "0    1               GW$4,341,000,000                    1939   \n",
       "1    2               A1$3,957,000,000                    2009   \n",
       "2    3  $2,516,000,000T$3,677,000,000                    1997   \n",
       "3    4                 $3,563,000,000                    1977   \n",
       "4    5               AE$3,275,000,000                    2019   \n",
       "5    6                 $2,984,000,000                    1965   \n",
       "6    7               ET$2,917,000,000                    1982   \n",
       "7    8                 $2,758,000,000                    1956   \n",
       "8    9                 $2,615,000,000                    1965   \n",
       "9   10              TFA$2,577,000,000                    2015   \n",
       "\n",
       "                           Year  \n",
       "0            Gone with the Wind  \n",
       "1                        Avatar  \n",
       "2                       Titanic  \n",
       "3                     Star Wars  \n",
       "4             Avengers: Endgame  \n",
       "5            The Sound of Music  \n",
       "6    E.T. the Extra-Terrestrial  \n",
       "7          The Ten Commandments  \n",
       "8                Doctor Zhivago  \n",
       "9  Star Wars: The Force Awakens  "
      ]
     },
     "execution_count": 9,
     "metadata": {},
     "output_type": "execute_result"
    }
   ],
   "source": [
    "df = pd.DataFrame(rowdata,columns=droping_columns.columns)\n",
    "df"
   ]
  },
  {
   "cell_type": "code",
   "execution_count": 42,
   "metadata": {},
   "outputs": [
    {
     "data": {
      "text/html": [
       "<div>\n",
       "<style scoped>\n",
       "    .dataframe tbody tr th:only-of-type {\n",
       "        vertical-align: middle;\n",
       "    }\n",
       "\n",
       "    .dataframe tbody tr th {\n",
       "        vertical-align: top;\n",
       "    }\n",
       "\n",
       "    .dataframe thead th {\n",
       "        text-align: right;\n",
       "    }\n",
       "</style>\n",
       "<table border=\"1\" class=\"dataframe\">\n",
       "  <thead>\n",
       "    <tr style=\"text-align: right;\">\n",
       "      <th></th>\n",
       "      <th>Rank</th>\n",
       "      <th>Title</th>\n",
       "      <th>Worldwide gross(2023 $)</th>\n",
       "      <th>Year</th>\n",
       "    </tr>\n",
       "  </thead>\n",
       "  <tbody>\n",
       "    <tr>\n",
       "      <th>0</th>\n",
       "      <td>1</td>\n",
       "      <td>Gone with the Wind</td>\n",
       "      <td>$4,341,000,000</td>\n",
       "      <td>1939</td>\n",
       "    </tr>\n",
       "    <tr>\n",
       "      <th>1</th>\n",
       "      <td>2</td>\n",
       "      <td>Avatar</td>\n",
       "      <td>$3,957,000,000</td>\n",
       "      <td>2009</td>\n",
       "    </tr>\n",
       "    <tr>\n",
       "      <th>2</th>\n",
       "      <td>3</td>\n",
       "      <td>Titanic</td>\n",
       "      <td>$2,516,000,000T$3,677,000,000</td>\n",
       "      <td>1997</td>\n",
       "    </tr>\n",
       "    <tr>\n",
       "      <th>3</th>\n",
       "      <td>4</td>\n",
       "      <td>Star Wars</td>\n",
       "      <td>$3,563,000,000</td>\n",
       "      <td>1977</td>\n",
       "    </tr>\n",
       "    <tr>\n",
       "      <th>4</th>\n",
       "      <td>5</td>\n",
       "      <td>Avengers: Endgame</td>\n",
       "      <td>$3,275,000,000</td>\n",
       "      <td>2019</td>\n",
       "    </tr>\n",
       "    <tr>\n",
       "      <th>5</th>\n",
       "      <td>6</td>\n",
       "      <td>The Sound of Music</td>\n",
       "      <td>$2,984,000,000</td>\n",
       "      <td>1965</td>\n",
       "    </tr>\n",
       "    <tr>\n",
       "      <th>6</th>\n",
       "      <td>7</td>\n",
       "      <td>E.T. the Extra-Terrestrial</td>\n",
       "      <td>$2,917,000,000</td>\n",
       "      <td>1982</td>\n",
       "    </tr>\n",
       "    <tr>\n",
       "      <th>7</th>\n",
       "      <td>8</td>\n",
       "      <td>The Ten Commandments</td>\n",
       "      <td>$2,758,000,000</td>\n",
       "      <td>1956</td>\n",
       "    </tr>\n",
       "    <tr>\n",
       "      <th>8</th>\n",
       "      <td>9</td>\n",
       "      <td>Doctor Zhivago</td>\n",
       "      <td>$2,615,000,000</td>\n",
       "      <td>1965</td>\n",
       "    </tr>\n",
       "    <tr>\n",
       "      <th>9</th>\n",
       "      <td>10</td>\n",
       "      <td>Star Wars: The Force Awakens</td>\n",
       "      <td>$2,577,000,000</td>\n",
       "      <td>2015</td>\n",
       "    </tr>\n",
       "  </tbody>\n",
       "</table>\n",
       "</div>"
      ],
      "text/plain": [
       "  Rank                         Title        Worldwide gross(2023 $)  Year\n",
       "0    1            Gone with the Wind                 $4,341,000,000  1939\n",
       "1    2                        Avatar                 $3,957,000,000  2009\n",
       "2    3                       Titanic  $2,516,000,000T$3,677,000,000  1997\n",
       "3    4                     Star Wars                 $3,563,000,000  1977\n",
       "4    5             Avengers: Endgame                 $3,275,000,000  2019\n",
       "5    6            The Sound of Music                 $2,984,000,000  1965\n",
       "6    7    E.T. the Extra-Terrestrial                 $2,917,000,000  1982\n",
       "7    8          The Ten Commandments                 $2,758,000,000  1956\n",
       "8    9                Doctor Zhivago                 $2,615,000,000  1965\n",
       "9   10  Star Wars: The Force Awakens                 $2,577,000,000  2015"
      ]
     },
     "execution_count": 42,
     "metadata": {},
     "output_type": "execute_result"
    }
   ],
   "source": [
    "df[\"Title\"] = df[\"Title\"].replace([\"GW\",\"A1\",\"AE\",\"ET\",\"TFA\"],\"\",regex=True)\n",
    "renam_e = df.rename(columns={\"Title\":\"Worldwide gross(2023 $)\",\"Worldwide gross(2023 $)\":\"Year\",\"Year\":\"Title\"})\n",
    "renam_e[[\"Rank\",\"Title\",\"Worldwide gross(2023 $)\",\"Year\"]]\n"
   ]
  }
 ],
 "metadata": {
  "kernelspec": {
   "display_name": "Python 3",
   "language": "python",
   "name": "python3"
  },
  "language_info": {
   "codemirror_mode": {
    "name": "ipython",
    "version": 3
   },
   "file_extension": ".py",
   "mimetype": "text/x-python",
   "name": "python",
   "nbconvert_exporter": "python",
   "pygments_lexer": "ipython3",
   "version": "3.11.9"
  }
 },
 "nbformat": 4,
 "nbformat_minor": 2
}
